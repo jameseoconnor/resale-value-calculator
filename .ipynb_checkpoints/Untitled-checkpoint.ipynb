{
 "cells": [
  {
   "cell_type": "code",
   "execution_count": 1,
   "id": "dc196a60",
   "metadata": {},
   "outputs": [],
   "source": [
    "import pandas as pd\n",
    "import requests\n",
    "import time\n",
    "import random\n",
    "\n",
    "from pprint import pprint as pp\n",
    "from bs4 import BeautifulSoup"
   ]
  },
  {
   "cell_type": "code",
   "execution_count": 2,
   "id": "6f38ede9",
   "metadata": {},
   "outputs": [],
   "source": [
    "def request_get_html(url):\n",
    "    html = requests.get(url, auth=('user', 'pass'))\n",
    "    return html.text\n",
    "\n",
    "\n",
    "def format_string_result(string):\n",
    "    result = ' '.join(string.split())\n",
    "    return result.upper()\n",
    "\n",
    "\n",
    "def calculate_wait_time(lower_limit, upper_limit):\n",
    "    return random.uniform(lower_limit, upper_limit)\n"
   ]
  },
  {
   "cell_type": "markdown",
   "id": "ca91bc1b",
   "metadata": {},
   "source": [
    "## Get the latest sold items "
   ]
  },
  {
   "cell_type": "code",
   "execution_count": null,
   "id": "c64eac76",
   "metadata": {},
   "outputs": [],
   "source": [
    "base_url = \"https://poshmark.com/category/\"\n",
    "categories = (\"Women-Dresses\")\n",
    "query_parameters = \"?availability=sold_out\"\n",
    "page_no = 1\n",
    "\n",
    "url = base_url + categories + query_parameters + 'max_id=' + str(page_no)"
   ]
  },
  {
   "cell_type": "code",
   "execution_count": 104,
   "id": "41637c36",
   "metadata": {},
   "outputs": [],
   "source": [
    "html = request_get_html(url)\n",
    "soup = BeautifulSoup(request_get_html(url), 'html.parser')"
   ]
  },
  {
   "cell_type": "code",
   "execution_count": 115,
   "id": "c57bf4c6",
   "metadata": {},
   "outputs": [],
   "source": [
    "df = pd.DataFrame(columns=['Name', 'Size', 'Brand', 'Sale_Price', 'Condition', 'Link'])"
   ]
  },
  {
   "cell_type": "code",
   "execution_count": 116,
   "id": "6f45c8a6",
   "metadata": {},
   "outputs": [],
   "source": [
    "for div_details in soup.find_all(\"div\", {\"class\": \"item__details\"}):\n",
    "#   Get Item Name \n",
    "    item_name = div_details.a.text\n",
    "    item_name = format_string_result(item_name)\n",
    "    \n",
    "#   Get Item Link\n",
    "    link = div_details.find(\"a\", {\"class\": \"tile__title tc--b\"})['href']\n",
    "\n",
    "#   Get Sale Price\n",
    "    sale_price = div_details.find(\"span\", {\"class\": \"p--t--1 fw--bold\"}).text\n",
    "    sale_price = sale_price.replace(\"$\", \"\")\n",
    "    sale_price = format_string_result(sale_price)\n",
    "    \n",
    "#     Get Condition - Not always known\n",
    "    try:\n",
    "        condition = div_details.find(\"span\", {\"class\": \"condition-tag all-caps tr--uppercase condition-tag--small\"}).text\n",
    "        condition = format_string_result(condition)\n",
    "    except: \n",
    "        condition = \"Unknown\"\n",
    "    \n",
    "    \n",
    "#   Get Size - Not always known\n",
    "    try:\n",
    "        size = div_details.find(\"a\", {\"class\": \"tile__details__pipe__size ellipses\"}).text\n",
    "        size = size.replace(\"Size: \", \"\")\n",
    "        size = format_string_result(size)\n",
    "    except: \n",
    "        size = \"Unknown\"\n",
    "    \n",
    "    \n",
    "#   Get Brand - Not always known\n",
    "    try:\n",
    "        brand = div_details.find(\"a\", {\"class\": \"tile__details__pipe__brand ellipses\"}).text\n",
    "        brand = format_string_result(brand)\n",
    "    except: \n",
    "        brand = \"Unknown\"\n",
    "    \n",
    "    df = df.append({\n",
    "        'Name': item_name, \n",
    "        'Size': size, \n",
    "        \"Brand\": brand, \n",
    "        'Sale_Price': sale_price, \n",
    "        'Condition': condition,\n",
    "        'Link': link\n",
    "    }, ignore_index=True)"
   ]
  },
  {
   "cell_type": "markdown",
   "id": "6250f3b7",
   "metadata": {},
   "source": [
    "## Get Sold Items By Brand"
   ]
  },
  {
   "cell_type": "code",
   "execution_count": 3,
   "id": "4fde3642",
   "metadata": {},
   "outputs": [],
   "source": [
    "def get_value_from_html(html, tag_type, class_name, tag_attrib=None, str_replace=None):\n",
    "    try:\n",
    "        if tag_attrib is not None:\n",
    "            value = html.find(tag_type, {\"class\": class_name})[tag_attrib]\n",
    "    \n",
    "        else:\n",
    "            value = html.find(tag_type, {\"class\": class_name}).text\n",
    "    \n",
    "    except:\n",
    "        return \"N/A\"\n",
    "    \n",
    "    if str_replace:\n",
    "        value = value.replace(str_replace, \"\")\n",
    "    \n",
    "    return format_string_result(value)\n",
    "    "
   ]
  },
  {
   "cell_type": "code",
   "execution_count": 4,
   "id": "f2fb26ca",
   "metadata": {},
   "outputs": [],
   "source": [
    "df = pd.DataFrame(columns=['Name', 'Size', 'Brand', 'Sale_Price', 'Condition', \"Link\"])"
   ]
  },
  {
   "cell_type": "code",
   "execution_count": 5,
   "id": "6fd3e817",
   "metadata": {},
   "outputs": [],
   "source": [
    "# The brands we want to search\n",
    "brands = ['lululemon_athletica']\n",
    "\n",
    "\n",
    "# URL Variables\n",
    "base_url = \"https://poshmark.com\"\n",
    "query_filter = \"?availability=sold_out\"\n",
    "gender = \"Women\"\n",
    "category = \"Pants_&_Jumpsuits\"\n",
    "page = \"1\"\n",
    "\n",
    "for brand in brands:\n",
    "    \n",
    "    url_brands = base_url + \"/brand/\" + brand + \"-\" + gender + \"-\" + category + query_filter + \"max_id=\" + page\n",
    "    soup_brands = BeautifulSoup(request_get_html(url_brands), 'html.parser')\n",
    "    \n",
    "    for html_details in soup_brands.find_all(\"div\", {\"class\": \"item__details\"}):\n",
    "        #   Get Item Name \n",
    "        item_name = format_string_result(html_details.a.text)\n",
    "        \n",
    "        #   Get Item Link\n",
    "        link = base_url + get_value_from_html(html_details, \"a\", \"tile__title tc--b\", tag_attrib=\"href\")\n",
    "            \n",
    "        #   Get Sale Price\n",
    "        sale_price = get_value_from_html(html_details, \"span\", \"p--t--1 fw--bold\", str_replace=\"$\")        \n",
    "        \n",
    "        #   Get Condition - Not always known\n",
    "        condition = get_value_from_html(html_details, \"span\", \"condition-tag all-caps tr--uppercase condition-tag--small\")\n",
    "               \n",
    "        #   Get Size - Not always known\n",
    "        size = get_value_from_html(html_details, \"a\", \"tile__details__pipe__size ellipses\", str_replace=\"Size: \")\n",
    "\n",
    "        #   Get Brand - Not always known\n",
    "        brand = get_value_from_html(html_details, \"a\", \"tile__details__pipe__brand ellipses\")\n",
    "        \n",
    "        #   Add to the dataframe\n",
    "        df = df.append({\n",
    "        'Name': item_name, \n",
    "        'Size': size, \n",
    "        \"Brand\": brand, \n",
    "        'Sale_Price': sale_price, \n",
    "        'Condition': condition,\n",
    "        'Link': link\n",
    "        }, ignore_index=True)"
   ]
  },
  {
   "cell_type": "code",
   "execution_count": 10,
   "id": "ace2fe12",
   "metadata": {},
   "outputs": [
    {
     "data": {
      "text/plain": [
       "'LULULEMON WIDE LEG CROPPED REVERSIBLE YOGA PANTS'"
      ]
     },
     "execution_count": 10,
     "metadata": {},
     "output_type": "execute_result"
    }
   ],
   "source": [
    "df['Name'][0]"
   ]
  },
  {
   "cell_type": "code",
   "execution_count": 42,
   "id": "fcdd7b51",
   "metadata": {},
   "outputs": [
    {
     "name": "stdout",
     "output_type": "stream",
     "text": [
      "3.2500032192420685\n"
     ]
    }
   ],
   "source": []
  },
  {
   "cell_type": "code",
   "execution_count": null,
   "id": "632adbf5",
   "metadata": {},
   "outputs": [],
   "source": []
  },
  {
   "cell_type": "code",
   "execution_count": null,
   "id": "fb3e607e",
   "metadata": {},
   "outputs": [],
   "source": []
  },
  {
   "cell_type": "code",
   "execution_count": null,
   "id": "bdd01726",
   "metadata": {},
   "outputs": [],
   "source": []
  }
 ],
 "metadata": {
  "kernelspec": {
   "display_name": "Python 3 (ipykernel)",
   "language": "python",
   "name": "python3"
  },
  "language_info": {
   "codemirror_mode": {
    "name": "ipython",
    "version": 3
   },
   "file_extension": ".py",
   "mimetype": "text/x-python",
   "name": "python",
   "nbconvert_exporter": "python",
   "pygments_lexer": "ipython3",
   "version": "3.7.2"
  }
 },
 "nbformat": 4,
 "nbformat_minor": 5
}
