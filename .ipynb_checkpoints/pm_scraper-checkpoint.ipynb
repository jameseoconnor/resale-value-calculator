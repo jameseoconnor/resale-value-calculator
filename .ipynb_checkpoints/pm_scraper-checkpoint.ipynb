{
 "cells": [
  {
   "cell_type": "code",
   "execution_count": 38,
   "id": "2f9e52f5",
   "metadata": {},
   "outputs": [],
   "source": [
    "import requests\n",
    "import time\n",
    "import random\n",
    "import sqlite3\n",
    "import re\n",
    "\n",
    "from bs4 import BeautifulSoup"
   ]
  },
  {
   "cell_type": "markdown",
   "id": "cd7e3061",
   "metadata": {},
   "source": [
    "## Create the Database"
   ]
  },
  {
   "cell_type": "code",
   "execution_count": 39,
   "id": "6c3ded2d",
   "metadata": {},
   "outputs": [],
   "source": [
    "def create_connection(db_file):\n",
    "    \"\"\" create a database connection to the SQLite database\n",
    "        specified by the db_file\n",
    "    :param db_file: database file\n",
    "    :return: Connection object or None\n",
    "    \"\"\"\n",
    "    conn = None\n",
    "    try:\n",
    "        conn = sqlite3.connect(db_file)\n",
    "    except Error as e:\n",
    "        print(e)\n",
    "\n",
    "    return conn\n",
    "\n",
    "\n",
    "def select_all_tasks(conn, table_name):\n",
    "    \"\"\"\n",
    "    Query all rows in the tasks table\n",
    "    :param conn: the Connection object\n",
    "    :return:\n",
    "    \"\"\"\n",
    "    cur = conn.cursor()\n",
    "    cur.execute(f\"SELECT * FROM {table_name}\")\n",
    "\n",
    "    print_query_result(cur)\n",
    "    \n",
    "def print_query_result(cursor):\n",
    "    \n",
    "    rows = cursor.fetchall()\n",
    "\n",
    "    for row in rows:\n",
    "        print(row)\n",
    "\n",
    "        \n",
    "# # Create the table if it does not exist\n",
    "# conn = create_connection('db/sold_items.db')\n",
    "# conn.execute('''CREATE TABLE IF NOT EXISTS sold_items_women\n",
    "#          (ID TEXT PRIMARY KEY     NOT NULL,\n",
    "#          gender            TEXT    NOT NULL,\n",
    "#          category          TEXT     NOT NULL,\n",
    "#          name              CHAR(100),\n",
    "#          list_price        CHAR(10),\n",
    "#          sale_price        CHAR(10),\n",
    "#          condition         CHAR(10),\n",
    "#          link              CHAR(100),\n",
    "#          likes             CHAR(4),\n",
    "#          comments          CHAR(4),\n",
    "#          date_added        CHAR(10))\n",
    "#          ;''')\n",
    "# conn.close()"
   ]
  },
  {
   "cell_type": "markdown",
   "id": "55cecf31",
   "metadata": {},
   "source": [
    "## Helper Functions"
   ]
  },
  {
   "cell_type": "code",
   "execution_count": 40,
   "id": "bf8f60fd",
   "metadata": {},
   "outputs": [],
   "source": [
    "def request_get_html(url):\n",
    "    html = requests.get(url)\n",
    "    return html.text\n",
    "\n",
    "\n",
    "def format_string_result(string):\n",
    "    result = ' '.join(string.split())\n",
    "    return result.upper()\n",
    "\n",
    "\n",
    "def calculate_wait_time(lower_limit, upper_limit):\n",
    "    return random.uniform(lower_limit, upper_limit)\n",
    "\n",
    "\n",
    "def get_value_from_html(html, tag_type, class_name, tag_attrib=None, str_replace=None):\n",
    "    try:\n",
    "        if tag_attrib is not None:\n",
    "            value = html.find(tag_type, {\"class\": class_name})[tag_attrib]\n",
    "        \n",
    "        else: \n",
    "            value = html.find(tag_type, {\"class\": class_name}).text\n",
    "    \n",
    "    except:\n",
    "        return \"N/A\"\n",
    "    \n",
    "    if str_replace:\n",
    "        for repl in str_replace:\n",
    "            value = value.replace(repl, \"\")\n",
    "    \n",
    "    return format_string_result(value)"
   ]
  },
  {
   "cell_type": "markdown",
   "id": "dbd2611f",
   "metadata": {},
   "source": [
    "## Get the latest sold items "
   ]
  },
  {
   "cell_type": "markdown",
   "id": "225332ef",
   "metadata": {},
   "source": [
    "### Available Categories\n",
    "- Jackets & Coats\n",
    "- Jeans\n",
    "- Pants & Jumpsuits\n",
    "- Short \n",
    "- Tops\n",
    "\n",
    "\n",
    "\n",
    "### Available Genders/ Groups\n",
    "- Women\n",
    "- Men\n",
    "- Kids\n",
    "- Home\n",
    "- Pets\n"
   ]
  },
  {
   "cell_type": "markdown",
   "id": "f7ade048",
   "metadata": {},
   "source": [
    "The idea here is (ethically) retrieve data about sold items from the Poshmark ressellers website. \n",
    "\n",
    "If there are any breaches of user agreements here please get in contact with me! "
   ]
  },
  {
   "cell_type": "code",
   "execution_count": 41,
   "id": "6fa173a6",
   "metadata": {},
   "outputs": [],
   "source": [
    "# URL Variables\n",
    "base_url = \"https://poshmark.com\"\n",
    "brand = 'Nike'\n",
    "gender = \"Women\"\n",
    "category = \"Shoes\"\n",
    "query_filter = \"?availability=sold_out\"\n",
    "page_limit = 1"
   ]
  },
  {
   "cell_type": "code",
   "execution_count": 42,
   "id": "a2c23728",
   "metadata": {},
   "outputs": [
    {
     "ename": "SyntaxError",
     "evalue": "invalid syntax (3826672748.py, line 44)",
     "output_type": "error",
     "traceback": [
      "\u001b[0;36m  File \u001b[0;32m\"/var/folders/86/d1pz7hms1rjf15kdvq3kf5km0000gn/T/ipykernel_55272/3826672748.py\"\u001b[0;36m, line \u001b[0;32m44\u001b[0m\n\u001b[0;31m    size = get_value_from_html(html_details, \"a\", \"tile__details__pipe__size ellipses\", str_replace=[]\"Size: \"])\u001b[0m\n\u001b[0m                                                                                                             ^\u001b[0m\n\u001b[0;31mSyntaxError\u001b[0m\u001b[0;31m:\u001b[0m invalid syntax\n"
     ]
    }
   ],
   "source": [
    "# df = pd.DataFrame(columns=['item_id', 'date_added', 'gender', 'category', 'name', 'size', 'brand', 'list_price', 'sale_price', 'condition', 'link', 'likes', 'comments'])\n",
    "conn = create_connection('db/sold_items.db')\n",
    "\n",
    "\n",
    "for i in range(page_limit):\n",
    "        \n",
    "    url = base_url + \"/brand/\" + brand + \"-\" + gender + \"-\" + category + query_filter + \"&max_id=\" + str(i+1)\n",
    "    soup = BeautifulSoup(request_get_html(url), 'html.parser')\n",
    "    \n",
    "#   Wait to pull the next page for a few seconds   \n",
    "    time.sleep(calculate_wait_time(5, 10))\n",
    "    \n",
    "    for html_details in soup.find_all(\"div\", {\"class\": \"card card--small\"}):\n",
    "        try:\n",
    "            #   Get Item Name \n",
    "            item_name = get_value_from_html(html_details, \"img\", \"ovf--h\", tag_attrib=\"alt\")\n",
    "\n",
    "            #   Get Item Link\n",
    "            link = base_url + get_value_from_html(html_details, \"a\", \"tile__title tc--b\", tag_attrib=\"href\").lower()\n",
    "\n",
    "            #   Get the property listing ID     \n",
    "            item_id = get_value_from_html(html_details, \"a\", \"tile__title tc--b\", tag_attrib=\"data-et-prop-listing_id\")\n",
    "\n",
    "            #   Get the date added (need to regex a cloudfront url)\n",
    "            date_added = get_value_from_html(html_details, \"img\", \"ovf--h\", tag_attrib=\"src\")\n",
    "\n",
    "            if date_added == 'N/A':\n",
    "                date_added = get_value_from_html(html_details, \"img\", \"ovf--h\", tag_attrib=\"data-src\")\n",
    "\n",
    "            date_added = re.search('\\d{4}\\/\\d{2}\\/\\d{2}', date_added)\n",
    "            date_added = date_added.group(0)\n",
    "\n",
    "\n",
    "             #   Get List Price\n",
    "            list_price = get_value_from_html(html_details, \"span\", \"p--l--1 tc--lg td--lt\", str_replace=[\"$\", \",\"])  \n",
    "\n",
    "            #   Get Sale Price\n",
    "            sale_price = get_value_from_html(html_details, \"span\", \"p--t--1 fw--bold\", str_replace=[\"$\", \",\"])        \n",
    "\n",
    "            #   Get Condition - Not always known\n",
    "            condition = get_value_from_html(html_details, \"span\", \"condition-tag all-caps tr--uppercase condition-tag--small\")\n",
    "\n",
    "            #   Get Size - Not always known\n",
    "            size = get_value_from_html(html_details, \"a\", \"tile__details__pipe__size ellipses\", str_replace=[\"Size: \"])\n",
    "\n",
    "            #   Get Brand - Not always known\n",
    "            brand = get_value_from_html(html_details, \"a\", \"tile__details__pipe__brand ellipses\")\n",
    "\n",
    "            #   Get the amount of likes the picture recieved \n",
    "            likes_div = html_details.find('div', {\"class\": 'social-action-bar tile__social-actions'})\n",
    "\n",
    "            \n",
    "            try:\n",
    "                likes = likes_div.find('span').text\n",
    "            except:\n",
    "                likes = 0\n",
    "\n",
    "            #   Get the amount of comments the picture recieved \n",
    "            comments_div = html_details.find('div', {\"class\": 'd--fl ai--c jc--sb'})\n",
    "\n",
    "            try:\n",
    "                comments = comments_div.find('span').text\n",
    "            except:\n",
    "                comments = 0\n",
    "               \n",
    "            \n",
    "#           Database Insertion\n",
    "            insertion_query = f'''\n",
    "                INSERT INTO sold_items_women (ID,gender,category,size,name,list_price,sale_price,condition,link,date_added, likes, comments, brand_name)\n",
    "                VALUES (\"{item_id}\", \"{gender}\", \"{category}\", \"{size}\", \"{name}\", \"{list_price}\", \"{sale_price}\", \"{condition}\", \"{link}\", \"{date_added}\",  \"{likes}\",  \"{comments}\", \"{brand}\")\n",
    "                '''\n",
    "            conn.execute(insertion_query)\n",
    "            # Commit the changes\n",
    "            conn.commit()\n",
    "        \n",
    "        except Exception as e: \n",
    "            print(e)\n",
    "            continue\n",
    "    \n",
    "    \n",
    "# Close the connection\n",
    "conn.close()"
   ]
  },
  {
   "cell_type": "markdown",
   "id": "f665a588",
   "metadata": {},
   "source": [
    "## 2. Insert the data into the database"
   ]
  },
  {
   "cell_type": "code",
   "execution_count": 35,
   "id": "62980a6a",
   "metadata": {},
   "outputs": [
    {
     "name": "stdout",
     "output_type": "stream",
     "text": [
      "(1410,)\n"
     ]
    }
   ],
   "source": [
    "conn = create_connection('db/sold_items.db')\n",
    "cur = conn.cursor()\n",
    "cur.execute('''Select count(1) from sold_items_women where cast(sale_price as int)''')\n",
    "print_query_result(cur)"
   ]
  },
  {
   "cell_type": "markdown",
   "id": "aea0e430",
   "metadata": {},
   "source": [
    "- User inputs\n",
    "    - Brand\n",
    "    - Size \n",
    "    - Type\n",
    "\n",
    " \n",
    "- This is going to be used to estimate the resale price\n",
    "\n",
    "What we need to do is take this input, retrieve the data from the database, and calculate average sale value for \n",
    "    - This particular size\n",
    "    - Other sizes\n",
    "    - What they normally list for versus what they sell for\n",
    "    "
   ]
  },
  {
   "cell_type": "markdown",
   "id": "5d93ac63",
   "metadata": {},
   "source": []
  }
 ],
 "metadata": {
  "kernelspec": {
   "display_name": "Python 3 (ipykernel)",
   "language": "python",
   "name": "python3"
  },
  "language_info": {
   "codemirror_mode": {
    "name": "ipython",
    "version": 3
   },
   "file_extension": ".py",
   "mimetype": "text/x-python",
   "name": "python",
   "nbconvert_exporter": "python",
   "pygments_lexer": "ipython3",
   "version": "3.7.2"
  }
 },
 "nbformat": 4,
 "nbformat_minor": 5
}
