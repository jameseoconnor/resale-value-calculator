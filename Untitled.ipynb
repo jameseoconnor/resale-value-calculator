{
 "cells": [
  {
   "cell_type": "code",
   "execution_count": 48,
   "id": "bce10c67",
   "metadata": {},
   "outputs": [],
   "source": [
    "import pandas as pd\n",
    "import requests\n",
    "import time\n",
    "import random\n",
    "\n",
    "from pprint import pprint as pp\n",
    "from bs4 import BeautifulSoup"
   ]
  },
  {
   "cell_type": "code",
   "execution_count": 49,
   "id": "dc5c7290",
   "metadata": {},
   "outputs": [],
   "source": [
    "def request_get_html(url):\n",
    "    html = requests.get(url, auth=('user', 'pass'))\n",
    "    return html.text\n",
    "\n",
    "\n",
    "def format_string_result(string):\n",
    "    result = ' '.join(string.split())\n",
    "    return result.upper()\n",
    "\n",
    "\n",
    "def calculate_wait_time(lower_limit, upper_limit):\n",
    "    return random.uniform(lower_limit, upper_limit)\n",
    "\n",
    "\n",
    "def get_value_from_html(html, tag_type, class_name, tag_attrib=None, str_replace=None):\n",
    "    try:\n",
    "        if tag_attrib is not None:\n",
    "            value = html.find(tag_type, {\"class\": class_name})[tag_attrib]\n",
    "    \n",
    "        else:\n",
    "            value = html.find(tag_type, {\"class\": class_name}).text\n",
    "    \n",
    "    except:\n",
    "        return \"N/A\"\n",
    "    \n",
    "    if str_replace:\n",
    "        value = value.replace(str_replace, \"\")\n",
    "    \n",
    "    return format_string_result(value)"
   ]
  },
  {
   "cell_type": "markdown",
   "id": "8c84482c",
   "metadata": {},
   "source": [
    "## Get the latest sold items "
   ]
  },
  {
   "cell_type": "markdown",
   "id": "03694428",
   "metadata": {},
   "source": [
    "#### Available Categories\n",
    "- Jackets & Coats\n",
    "- Jeans\n",
    "- Pants & Jumpsuits\n",
    "- Short \n",
    "- Tops\n",
    "\n",
    "\n",
    "\n",
    "### Available Genders/ Groups\n",
    "- Women\n",
    "- Men\n",
    "- Kids\n",
    "- Home\n",
    "- Pets\n"
   ]
  },
  {
   "cell_type": "code",
   "execution_count": 61,
   "id": "2efb4580",
   "metadata": {},
   "outputs": [],
   "source": [
    "# URL Variables\n",
    "base_url = \"https://poshmark.com\"\n",
    "brand = 'lululemon_athletica'\n",
    "gender = \"Women\"\n",
    "category = \"Pants_&_Jumpsuits\"\n",
    "query_filter = \"?availability=sold_out\"\n",
    "page_limit = 5"
   ]
  },
  {
   "cell_type": "code",
   "execution_count": 62,
   "id": "7b7af5c9",
   "metadata": {},
   "outputs": [],
   "source": [
    "df = pd.DataFrame(columns=['gender', 'category', 'name', 'size', 'brand', 'sale_price', 'condition', 'link'])\n",
    "\n",
    "for i in range(page_limit):\n",
    "    \n",
    "    time.sleep(calculate_wait_time(3, 7))\n",
    "    \n",
    "    url = base_url + \"/brand/\" + brand + \"-\" + gender + \"-\" + category + query_filter + \"max_id=\" + str(i)\n",
    "    soup = BeautifulSoup(request_get_html(url), 'html.parser')\n",
    "    \n",
    "    for html_details in soup.find_all(\"div\", {\"class\": \"item__details\"}):\n",
    "        #   Get Item Name \n",
    "        item_name = format_string_result(html_details.a.text)\n",
    "        \n",
    "        #   Get Item Link\n",
    "        link = base_url + get_value_from_html(html_details, \"a\", \"tile__title tc--b\", tag_attrib=\"href\")\n",
    "            \n",
    "        #   Get Sale Price\n",
    "        sale_price = get_value_from_html(html_details, \"span\", \"p--t--1 fw--bold\", str_replace=\"$\")        \n",
    "        \n",
    "        #   Get Condition - Not always known\n",
    "        condition = get_value_from_html(html_details, \"span\", \"condition-tag all-caps tr--uppercase condition-tag--small\")\n",
    "               \n",
    "        #   Get Size - Not always known\n",
    "        size = get_value_from_html(html_details, \"a\", \"tile__details__pipe__size ellipses\", str_replace=\"Size: \")\n",
    "\n",
    "        #   Get Brand - Not always known\n",
    "        brand = get_value_from_html(html_details, \"a\", \"tile__details__pipe__brand ellipses\")\n",
    "        \n",
    "        #   Add to the dataframe\n",
    "        df = df.append({\n",
    "            \"gender\": gender,\n",
    "            \"category\"\n",
    "            'name': item_name, \n",
    "            'size': size, \n",
    "            \"brand\": brand, \n",
    "            'sale_price': sale_price, \n",
    "            'condition': condition,\n",
    "            'link': link\n",
    "        }, ignore_index=True)"
   ]
  },
  {
   "cell_type": "code",
   "execution_count": 64,
   "id": "694866ac",
   "metadata": {},
   "outputs": [],
   "source": [
    "df.to_csv(\"result_tuesday.csv\")"
   ]
  },
  {
   "cell_type": "code",
   "execution_count": null,
   "id": "5ea862aa",
   "metadata": {},
   "outputs": [],
   "source": []
  }
 ],
 "metadata": {
  "kernelspec": {
   "display_name": "Python 3 (ipykernel)",
   "language": "python",
   "name": "python3"
  },
  "language_info": {
   "codemirror_mode": {
    "name": "ipython",
    "version": 3
   },
   "file_extension": ".py",
   "mimetype": "text/x-python",
   "name": "python",
   "nbconvert_exporter": "python",
   "pygments_lexer": "ipython3",
   "version": "3.7.2"
  }
 },
 "nbformat": 4,
 "nbformat_minor": 5
}
